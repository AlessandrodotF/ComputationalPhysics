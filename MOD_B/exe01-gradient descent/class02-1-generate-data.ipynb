{
 "cells": [
  {
   "cell_type": "code",
   "execution_count": 1,
   "id": "geographic-stranger",
   "metadata": {},
   "outputs": [
    {
     "name": "stdout",
     "output_type": "stream",
     "text": [
      "6 0 4\n"
     ]
    }
   ],
   "source": [
    "import random\n",
    "myseed=12345\n",
    "random.seed(myseed)\n",
    "print(random.randint(0,10),random.randint(0,10),random.randint(0,10))"
   ]
  },
  {
   "cell_type": "code",
   "execution_count": 30,
   "id": "banner-cancellation",
   "metadata": {},
   "outputs": [
    {
     "name": "stdout",
     "output_type": "stream",
     "text": [
      "YES keyA=.. T ( 2 ) C ..\n",
      "NOT keyB=.. A ( 1 ) A ..\n"
     ]
    }
   ],
   "source": [
    "#number of samples\n",
    "N=10000\n",
    "#sixe of each string\n",
    "Ls=12\n",
    "ch=['A','C','G','T']\n",
    "Nc=len(ch)\n",
    "\n",
    "#data\n",
    "x=[None]*N #vettore nullo di lunghezza N\n",
    "#labels\n",
    "y=[0]*N\n",
    "\n",
    "gapA=2\n",
    "gapB=1\n",
    "C0=ch[3]\n",
    "C1=ch[1]\n",
    "C2=ch[0]\n",
    "C3=ch[0]\n",
    "print('YES keyA=..',C0, '(', gapA,')', C1, '..')\n",
    "print('NOT keyB=..',C2, '(', gapB,')', C3, '..')"
   ]
  },
  {
   "cell_type": "code",
   "execution_count": 31,
   "id": "exterior-faith",
   "metadata": {},
   "outputs": [],
   "source": [
    "def is_key(s,Ls,c0,c1,gap):\n",
    "    for j in range(Ls-gap):\n",
    "        if s[j]==c0 and s[j+gap]==c1:\n",
    "            return True\n",
    "    return False"
   ]
  },
  {
   "cell_type": "code",
   "execution_count": 32,
   "id": "later-hydrogen",
   "metadata": {},
   "outputs": [
    {
     "name": "stdout",
     "output_type": "stream",
     "text": [
      "TAGGCGTCGATG 0\n",
      "CCGATCCCACGG 1\n",
      "ATGATAACCGAT 0\n",
      "ACTCGACATCCG 1\n",
      "TCACGACCGGCT 0\n",
      "GAAATATCAGCA 0\n",
      "TAATGTCGACAT 0\n",
      "CGCCCCGCAACA 0\n",
      "TCAGTATTCCCA 1\n",
      "GGCTCCCTTGAA 0\n",
      "YES keyA=.. T ( 1 ) C ..\n",
      "NOT keyB=.. A ( 0 ) A ..\n",
      "0.3154\n"
     ]
    }
   ],
   "source": [
    "random.seed(myseed)\n",
    "for n in range(N):\n",
    "    s=\"\"\n",
    "    for j in range(Ls):\n",
    "        s=s+ch[random.randint(0,Nc-1)]\n",
    "    if is_key(s,Ls,C0,C1,gapA) and not is_key(s,Ls,C2,C3,gapB):\n",
    "        y[n]=1\n",
    "    x[n]=s\n",
    "\n",
    "for n in range(10):  \n",
    "    print(x[n],y[n])\n",
    "\n",
    "print('YES keyA=..',C0, '(', gapA-1,')', C1, '..')\n",
    "print('NOT keyB=..',C2, '(', gapB-1,')', C3, '..')\n",
    "\n",
    "print(sum(y)/N)"
   ]
  },
  {
   "cell_type": "code",
   "execution_count": 35,
   "id": "revolutionary-building",
   "metadata": {},
   "outputs": [],
   "source": [
    "#per creare una cartella per i dati!\n",
    "import os\n",
    "os.system(\"mkdir DATA\")\n",
    "\n",
    "import csv\n",
    "with open(\"DATA/sequences\"+str(Ls)+'.csv', mode=\"w\") as myfile:\n",
    "    for n in range (N):\n",
    "        writer =csv.writer(myfile, delimiter=\",\")\n",
    "        writer.writerow([x[n],y[n]])"
   ]
  },
  {
   "cell_type": "code",
   "execution_count": null,
   "id": "unlike-milan",
   "metadata": {},
   "outputs": [],
   "source": []
  }
 ],
 "metadata": {
  "kernelspec": {
   "display_name": "Python 3",
   "language": "python",
   "name": "python3"
  },
  "language_info": {
   "codemirror_mode": {
    "name": "ipython",
    "version": 3
   },
   "file_extension": ".py",
   "mimetype": "text/x-python",
   "name": "python",
   "nbconvert_exporter": "python",
   "pygments_lexer": "ipython3",
   "version": "3.6.12"
  }
 },
 "nbformat": 4,
 "nbformat_minor": 5
}
