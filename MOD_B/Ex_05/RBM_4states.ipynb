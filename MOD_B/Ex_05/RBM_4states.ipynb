{
  "cells": [
    {
      "cell_type": "markdown",
      "source": "# Data",
      "metadata": {
        "cell_id": "00001-601f8283-c863-4db0-ad38-4fe1a1250594",
        "deepnote_cell_type": "markdown"
      }
    },
    {
      "cell_type": "code",
      "metadata": {
        "deepnote_to_be_reexecuted": false,
        "source_hash": "8dd6285",
        "execution_millis": 285,
        "cell_id": "00002-ea6e7246-df75-4458-b005-2279e348b430",
        "execution_start": 1618387856236,
        "deepnote_cell_type": "code"
      },
      "source": "q = 0.1\nfname = \"DATA/dataRBM_q\"+str(q)+\"_4state.csv\"\n# Visible data\nv = np.loadtxt(fname,delimiter=\",\",dtype=int)\nN = len(v)\n# Length of sample\nL = len(v[0])\nprint(f\"Each of N={N} data samples has L={L} digits.\")\n\n# Data without corruption\nq = 0\nfname = \"DATA/dataRBM_q\"+str(q)+\"_4state.csv\"\n# Visible data\nv_true = np.loadtxt(fname,delimiter=\",\",dtype=int)\n\nfor n in range(10):\n    print(v[n])\n\nprint(\"...\")\n\n# Choice of using -1/+1 and not 0,1\nSPINS = False\nif SPINS:\n    vmin = -1\n# The energy gap now is 2 not 1\n    GAP  = 2  \n    v = 2*v -1\nelse:\n    vmin = 0\n    GAP = 1\n\n# Store initial values\nv0 = np.zeros_like(v)\nv0[:] = v[:]\n\nfor n in range(10):\n    print(v[n])\n\nprint(\"...\")",
      "execution_count": null,
      "outputs": [
        {
          "name": "stdout",
          "text": "Each of N=10000 data samples has L=8 digits.\n[1 1 0 0 1 1 0 0]\n[1 1 0 0 0 1 1 0]\n[0 1 0 1 1 1 0 0]\n[0 0 1 1 0 0 1 1]\n[1 1 0 1 1 1 1 1]\n[1 1 1 1 0 1 1 1]\n[0 0 1 1 1 0 1 1]\n[0 0 1 1 1 1 0 0]\n[1 1 0 0 1 1 0 0]\n[0 0 0 1 1 0 1 1]\n...\n[1 1 0 0 1 1 0 0]\n[1 1 0 0 0 1 1 0]\n[0 1 0 1 1 1 0 0]\n[0 0 1 1 0 0 1 1]\n[1 1 0 1 1 1 1 1]\n[1 1 1 1 0 1 1 1]\n[0 0 1 1 1 0 1 1]\n[0 0 1 1 1 1 0 0]\n[1 1 0 0 1 1 0 0]\n[0 0 0 1 1 0 1 1]\n...\n",
          "output_type": "stream"
        }
      ]
    },
    {
      "cell_type": "code",
      "metadata": {
        "deepnote_to_be_reexecuted": false,
        "source_hash": "673b8bd0",
        "execution_millis": 10,
        "cell_id": "00003-a41dfc4a-af39-464d-b323-0430e9f887c3",
        "execution_start": 1618405956836,
        "deepnote_cell_type": "code"
      },
      "source": "# Number of hidden units\nM = 5\n\n# This is good, is written in the review the denom is prop to the lenght of M\nsigma = np.sqrt(4. /float(L + M))\nnp.random.seed(12345)\n\n# Numbers in [-sigma;sigma]\nw = sigma * (2*np.random.rand(L,M) - 1) #matrix of weights\na = sigma * (2*np.random.rand(L) - 1)\nb = np.zeros(M)\nprint(f\"w = {w}\\na = {a}\\nb = {b}\")\nw0,a0,b0 = np.zeros_like(w),np.zeros_like(a),np.zeros_like(b)\nw0[:],a0[:],b0[:] = w[:],a[:],b[:]",
      "execution_count": null,
      "outputs": [
        {
          "output_type": "error",
          "ename": "NameError",
          "evalue": "name 'np' is not defined",
          "traceback": [
            "\u001b[0;31m---------------------------------------------------------------------------\u001b[0m",
            "\u001b[0;31mNameError\u001b[0m                                 Traceback (most recent call last)",
            "\u001b[0;32m<ipython-input-2-d4f4e0276172>\u001b[0m in \u001b[0;36m<module>\u001b[0;34m\u001b[0m\n\u001b[1;32m      3\u001b[0m \u001b[0;34m\u001b[0m\u001b[0m\n\u001b[1;32m      4\u001b[0m \u001b[0;31m# This is good, is written in the review the denom is prop to the lenght of M\u001b[0m\u001b[0;34m\u001b[0m\u001b[0;34m\u001b[0m\u001b[0;34m\u001b[0m\u001b[0m\n\u001b[0;32m----> 5\u001b[0;31m \u001b[0msigma\u001b[0m \u001b[0;34m=\u001b[0m \u001b[0mnp\u001b[0m\u001b[0;34m.\u001b[0m\u001b[0msqrt\u001b[0m\u001b[0;34m(\u001b[0m\u001b[0;36m4.\u001b[0m \u001b[0;34m/\u001b[0m\u001b[0mfloat\u001b[0m\u001b[0;34m(\u001b[0m\u001b[0mL\u001b[0m \u001b[0;34m+\u001b[0m \u001b[0mM\u001b[0m\u001b[0;34m)\u001b[0m\u001b[0;34m)\u001b[0m\u001b[0;34m\u001b[0m\u001b[0;34m\u001b[0m\u001b[0m\n\u001b[0m\u001b[1;32m      6\u001b[0m \u001b[0mnp\u001b[0m\u001b[0;34m.\u001b[0m\u001b[0mrandom\u001b[0m\u001b[0;34m.\u001b[0m\u001b[0mseed\u001b[0m\u001b[0;34m(\u001b[0m\u001b[0;36m12345\u001b[0m\u001b[0;34m)\u001b[0m\u001b[0;34m\u001b[0m\u001b[0;34m\u001b[0m\u001b[0m\n\u001b[1;32m      7\u001b[0m \u001b[0;34m\u001b[0m\u001b[0m\n",
            "\u001b[0;31mNameError\u001b[0m: name 'np' is not defined"
          ]
        }
      ]
    },
    {
      "cell_type": "code",
      "metadata": {
        "tags": [],
        "deepnote_to_be_reexecuted": false,
        "source_hash": "cc133eeb",
        "execution_millis": 32911,
        "cell_id": "00013-5e88dfbc-59ca-4a22-ad09-3222bbcf68fd",
        "execution_start": 1618387857139,
        "deepnote_cell_type": "code"
      },
      "source": "w1,a1,b1 = RBM(w, v, a, b, plot = False)",
      "execution_count": null,
      "outputs": []
    },
    {
      "cell_type": "code",
      "metadata": {
        "deepnote_to_be_reexecuted": false,
        "source_hash": "5d276fe3",
        "execution_millis": 1371,
        "cell_id": "00014-98691f33-372b-4376-8dc4-2aa24031072f",
        "execution_start": 1618388674266,
        "deepnote_cell_type": "code"
      },
      "source": "pixi = 1\nprint(\"------------ β=1 ------------ \")\nv1 = np.full((N,L),vmin)\nfor n in range(N):\n    h = activate(v0[n],w1,b1,GAP,β=1)\n    v1[n] = activate(h,w1.T,a1,GAP,β=1)\n    \nfor n in range(10):\n    print((v0[n]).astype(int),(v1[n]).astype(int))\n\nprint(f\"The score of the RBM with β = 1 and a confidence of {pixi} is {comparison(v1,v_true,pixi)} \")\nprint(\"------------ β=5 ------------ \")\nv2 = np.full((N,L),vmin)\nfor n in range(N):\n    h = activate(v0[n],w1,b1,GAP,β=5)\n    v2[n] = activate(h,w1.T,a1,GAP, β=5)\n    \nfor n in range(10):\n    print((v0[n]).astype(int),(v2[n]).astype(int))    \n\nprint(f\"The score of the RBM with β = 5 and a confidence of {pixi} is {comparison(v2,v_true,pixi)} \")\n\nprint(\"----------- β=10 ----------- \")\nv3 = np.full((N,L),vmin)\nfor n in range(N):\n    h = activate(v0[n],w1,b1,GAP,β=10)\n    v3[n] = activate(h,w1.T,a1,GAP,β=10)\n    \nfor n in range(10):\n    print((v0[n]).astype(int),(v3[n]).astype(int))\n\nprint(f\"The score of the RBM with β = 10 and a confidence of {pixi} is {comparison(v3,v_true,pixi)} \")\n    \nprint(\"----------- β=15 ----------- \")\nv4 = np.full((N,L),vmin)\nfor n in range(N):\n    h = activate(v0[n],w1,b1,GAP,β=15)\n    v4[n] = activate(h,w1.T,a1,GAP,β=15)\n    \nfor n in range(10):\n    print((v0[n]).astype(int),(v4[n]).astype(int))\n\nprint(f\"The score of the RBM with β = 15 and a confidence of {pixi} is {comparison(v4,v_true,pixi)} \")",
      "execution_count": null,
      "outputs": [
        {
          "name": "stdout",
          "text": "------------ β=1 ------------ \n[1 1 0 0 1 1 0 0] [1 1 0 1 1 1 0 0]\n[1 1 0 0 0 1 1 0] [1 1 0 0 1 0 1 0]\n[0 1 0 1 1 1 0 0] [0 1 0 1 1 1 0 1]\n[0 0 1 1 0 0 1 1] [0 0 1 1 0 0 1 1]\n[1 1 0 1 1 1 1 1] [1 1 1 1 1 1 1 1]\n[1 1 1 1 0 1 1 1] [1 1 1 1 0 0 1 1]\n[0 0 1 1 1 0 1 1] [0 0 1 1 1 0 0 0]\n[0 0 1 1 1 1 0 0] [0 0 1 1 1 1 0 0]\n[1 1 0 0 1 1 0 0] [1 1 0 0 1 1 0 0]\n[0 0 0 1 1 0 1 1] [0 0 1 1 0 0 1 1]\n10000\n8\nThe score of the RBM with β = 1 and a confidence of 2 is 0.6706 \n------------ β=5 ------------ \n[1 1 0 0 1 1 0 0] [1 1 0 0 1 1 0 0]\n[1 1 0 0 0 1 1 0] [1 1 0 0 1 1 0 0]\n[0 1 0 1 1 1 0 0] [1 1 0 0 1 1 0 0]\n[0 0 1 1 0 0 1 1] [0 0 1 1 0 0 1 1]\n[1 1 0 1 1 1 1 1] [1 1 1 1 1 1 1 1]\n[1 1 1 1 0 1 1 1] [1 1 1 1 1 1 1 1]\n[0 0 1 1 1 0 1 1] [1 1 1 1 0 1 1 1]\n[0 0 1 1 1 1 0 0] [0 0 1 1 1 1 0 0]\n[1 1 0 0 1 1 0 0] [1 1 0 0 1 1 0 0]\n[0 0 0 1 1 0 1 1] [1 1 1 1 0 0 1 1]\n10000\n8\nThe score of the RBM with β = 5 and a confidence of 2 is 0.877 \n----------- β=10 ----------- \n[1 1 0 0 1 1 0 0] [1 1 0 0 1 1 0 0]\n[1 1 0 0 0 1 1 0] [1 1 0 0 1 1 1 1]\n[0 1 0 1 1 1 0 0] [1 1 0 0 1 1 0 0]\n[0 0 1 1 0 0 1 1] [0 0 1 1 0 0 1 1]\n[1 1 0 1 1 1 1 1] [1 1 1 1 1 1 1 1]\n[1 1 1 1 0 1 1 1] [1 1 1 1 1 1 1 1]\n[0 0 1 1 1 0 1 1] [0 0 1 1 0 0 1 1]\n[0 0 1 1 1 1 0 0] [0 0 1 1 1 1 0 0]\n[1 1 0 0 1 1 0 0] [1 1 0 0 1 1 0 0]\n[0 0 0 1 1 0 1 1] [1 1 1 1 0 0 1 1]\n10000\n8\nThe score of the RBM with β = 10 and a confidence of 2 is 0.8766 \n----------- β=15 ----------- \n[1 1 0 0 1 1 0 0] [1 1 0 0 1 1 0 0]\n[1 1 0 0 0 1 1 0] [1 1 0 0 0 1 1 1]\n[0 1 0 1 1 1 0 0] [1 1 0 0 1 1 0 0]\n[0 0 1 1 0 0 1 1] [0 0 1 1 0 0 1 1]\n[1 1 0 1 1 1 1 1] [1 1 1 1 1 1 1 1]\n[1 1 1 1 0 1 1 1] [1 1 1 1 1 1 1 1]\n[0 0 1 1 1 0 1 1] [1 1 1 1 1 1 1 1]\n[0 0 1 1 1 1 0 0] [0 0 1 1 1 1 0 0]\n[1 1 0 0 1 1 0 0] [1 1 0 0 1 1 0 0]\n[0 0 0 1 1 0 1 1] [1 1 1 1 1 1 1 1]\n10000\n8\nThe score of the RBM with β = 15 and a confidence of 2 is 0.8731 \n",
          "output_type": "stream"
        }
      ]
    },
    {
      "cell_type": "code",
      "metadata": {
        "tags": [],
        "cell_id": "00006-881e00d3-139f-4d36-8afc-df8430c1b8c7",
        "deepnote_to_be_reexecuted": false,
        "source_hash": "3792625e",
        "execution_start": 1618405951782,
        "execution_millis": 214,
        "deepnote_cell_type": "code"
      },
      "source": "M = [3,5,7,10]\nscore_m = []\n\nfor m in M:\n    w = sigma * (2*np.random.rand(L,M) - 1) #matrix of weights\n    a = sigma * (2*np.random.rand(L) - 1)\n    b = np.zeros(M)\n    print(f\"w = {w}\\na = {a}\\nb = {b}\")\n    w0,a0,b0 = np.zeros_like(w),np.zeros_like(a),np.zeros_like(b)\n    w0[:],a0[:],b0[:] = w[:],a[:],b[:]\n\n    w1,a1,b1 = RBM(w, v, a, b, plot = False)\n\n    for n in range(N):\n        h = activate(v0[n],w1,b1,GAP,β=3)\n        v1[n] = activate(h,w1.T,a1,GAP,β=3)\n    score_m.append(comparison(v1, v_true, pixi))",
      "execution_count": null,
      "outputs": [
        {
          "output_type": "error",
          "ename": "NameError",
          "evalue": "name 'sigma' is not defined",
          "traceback": [
            "\u001b[0;31m---------------------------------------------------------------------------\u001b[0m",
            "\u001b[0;31mNameError\u001b[0m                                 Traceback (most recent call last)",
            "\u001b[0;32m<ipython-input-1-d3dc15ab3d3a>\u001b[0m in \u001b[0;36m<module>\u001b[0;34m\u001b[0m\n\u001b[1;32m      3\u001b[0m \u001b[0;34m\u001b[0m\u001b[0m\n\u001b[1;32m      4\u001b[0m \u001b[0;32mfor\u001b[0m \u001b[0mm\u001b[0m \u001b[0;32min\u001b[0m \u001b[0mM\u001b[0m\u001b[0;34m:\u001b[0m\u001b[0;34m\u001b[0m\u001b[0;34m\u001b[0m\u001b[0m\n\u001b[0;32m----> 5\u001b[0;31m     \u001b[0mw\u001b[0m \u001b[0;34m=\u001b[0m \u001b[0msigma\u001b[0m \u001b[0;34m*\u001b[0m \u001b[0;34m(\u001b[0m\u001b[0;36m2\u001b[0m\u001b[0;34m*\u001b[0m\u001b[0mnp\u001b[0m\u001b[0;34m.\u001b[0m\u001b[0mrandom\u001b[0m\u001b[0;34m.\u001b[0m\u001b[0mrand\u001b[0m\u001b[0;34m(\u001b[0m\u001b[0mL\u001b[0m\u001b[0;34m,\u001b[0m\u001b[0mM\u001b[0m\u001b[0;34m)\u001b[0m \u001b[0;34m-\u001b[0m \u001b[0;36m1\u001b[0m\u001b[0;34m)\u001b[0m \u001b[0;31m#matrix of weights\u001b[0m\u001b[0;34m\u001b[0m\u001b[0;34m\u001b[0m\u001b[0m\n\u001b[0m\u001b[1;32m      6\u001b[0m     \u001b[0ma\u001b[0m \u001b[0;34m=\u001b[0m \u001b[0msigma\u001b[0m \u001b[0;34m*\u001b[0m \u001b[0;34m(\u001b[0m\u001b[0;36m2\u001b[0m\u001b[0;34m*\u001b[0m\u001b[0mnp\u001b[0m\u001b[0;34m.\u001b[0m\u001b[0mrandom\u001b[0m\u001b[0;34m.\u001b[0m\u001b[0mrand\u001b[0m\u001b[0;34m(\u001b[0m\u001b[0mL\u001b[0m\u001b[0;34m)\u001b[0m \u001b[0;34m-\u001b[0m \u001b[0;36m1\u001b[0m\u001b[0;34m)\u001b[0m\u001b[0;34m\u001b[0m\u001b[0;34m\u001b[0m\u001b[0m\n\u001b[1;32m      7\u001b[0m     \u001b[0mb\u001b[0m \u001b[0;34m=\u001b[0m \u001b[0mnp\u001b[0m\u001b[0;34m.\u001b[0m\u001b[0mzeros\u001b[0m\u001b[0;34m(\u001b[0m\u001b[0mM\u001b[0m\u001b[0;34m)\u001b[0m\u001b[0;34m\u001b[0m\u001b[0;34m\u001b[0m\u001b[0m\n",
            "\u001b[0;31mNameError\u001b[0m: name 'sigma' is not defined"
          ]
        }
      ]
    },
    {
      "cell_type": "markdown",
      "source": "<a style='text-decoration:none;line-height:16px;display:flex;color:#5B5B62;padding:10px;justify-content:end;' href='https://deepnote.com?utm_source=created-in-deepnote-cell&projectId=dc341315-a668-4e89-92e9-cab634ea884a' target=\"_blank\">\n<img alt='Created in deepnote.com' style='display:inline;max-height:16px;margin:0px;margin-right:7.5px;' src='data:image/svg+xml;base64,PD94bWwgdmVyc2lvbj0iMS4wIiBlbmNvZGluZz0iVVRGLTgiPz4KPHN2ZyB3aWR0aD0iODBweCIgaGVpZ2h0PSI4MHB4IiB2aWV3Qm94PSIwIDAgODAgODAiIHZlcnNpb249IjEuMSIgeG1sbnM9Imh0dHA6Ly93d3cudzMub3JnLzIwMDAvc3ZnIiB4bWxuczp4bGluaz0iaHR0cDovL3d3dy53My5vcmcvMTk5OS94bGluayI+CiAgICA8IS0tIEdlbmVyYXRvcjogU2tldGNoIDU0LjEgKDc2NDkwKSAtIGh0dHBzOi8vc2tldGNoYXBwLmNvbSAtLT4KICAgIDx0aXRsZT5Hcm91cCAzPC90aXRsZT4KICAgIDxkZXNjPkNyZWF0ZWQgd2l0aCBTa2V0Y2guPC9kZXNjPgogICAgPGcgaWQ9IkxhbmRpbmciIHN0cm9rZT0ibm9uZSIgc3Ryb2tlLXdpZHRoPSIxIiBmaWxsPSJub25lIiBmaWxsLXJ1bGU9ImV2ZW5vZGQiPgogICAgICAgIDxnIGlkPSJBcnRib2FyZCIgdHJhbnNmb3JtPSJ0cmFuc2xhdGUoLTEyMzUuMDAwMDAwLCAtNzkuMDAwMDAwKSI+CiAgICAgICAgICAgIDxnIGlkPSJHcm91cC0zIiB0cmFuc2Zvcm09InRyYW5zbGF0ZSgxMjM1LjAwMDAwMCwgNzkuMDAwMDAwKSI+CiAgICAgICAgICAgICAgICA8cG9seWdvbiBpZD0iUGF0aC0yMCIgZmlsbD0iIzAyNjVCNCIgcG9pbnRzPSIyLjM3NjIzNzYyIDgwIDM4LjA0NzY2NjcgODAgNTcuODIxNzgyMiA3My44MDU3NTkyIDU3LjgyMTc4MjIgMzIuNzU5MjczOSAzOS4xNDAyMjc4IDMxLjY4MzE2ODMiPjwvcG9seWdvbj4KICAgICAgICAgICAgICAgIDxwYXRoIGQ9Ik0zNS4wMDc3MTgsODAgQzQyLjkwNjIwMDcsNzYuNDU0OTM1OCA0Ny41NjQ5MTY3LDcxLjU0MjI2NzEgNDguOTgzODY2LDY1LjI2MTk5MzkgQzUxLjExMjI4OTksNTUuODQxNTg0MiA0MS42NzcxNzk1LDQ5LjIxMjIyODQgMjUuNjIzOTg0Niw0OS4yMTIyMjg0IEMyNS40ODQ5Mjg5LDQ5LjEyNjg0NDggMjkuODI2MTI5Niw0My4yODM4MjQ4IDM4LjY0NzU4NjksMzEuNjgzMTY4MyBMNzIuODcxMjg3MSwzMi41NTQ0MjUgTDY1LjI4MDk3Myw2Ny42NzYzNDIxIEw1MS4xMTIyODk5LDc3LjM3NjE0NCBMMzUuMDA3NzE4LDgwIFoiIGlkPSJQYXRoLTIyIiBmaWxsPSIjMDAyODY4Ij48L3BhdGg+CiAgICAgICAgICAgICAgICA8cGF0aCBkPSJNMCwzNy43MzA0NDA1IEwyNy4xMTQ1MzcsMC4yNTcxMTE0MzYgQzYyLjM3MTUxMjMsLTEuOTkwNzE3MDEgODAsMTAuNTAwMzkyNyA4MCwzNy43MzA0NDA1IEM4MCw2NC45NjA0ODgyIDY0Ljc3NjUwMzgsNzkuMDUwMzQxNCAzNC4zMjk1MTEzLDgwIEM0Ny4wNTUzNDg5LDc3LjU2NzA4MDggNTMuNDE4MjY3Nyw3MC4zMTM2MTAzIDUzLjQxODI2NzcsNTguMjM5NTg4NSBDNTMuNDE4MjY3Nyw0MC4xMjg1NTU3IDM2LjMwMzk1NDQsMzcuNzMwNDQwNSAyNS4yMjc0MTcsMzcuNzMwNDQwNSBDMTcuODQzMDU4NiwzNy43MzA0NDA1IDkuNDMzOTE5NjYsMzcuNzMwNDQwNSAwLDM3LjczMDQ0MDUgWiIgaWQ9IlBhdGgtMTkiIGZpbGw9IiMzNzkzRUYiPjwvcGF0aD4KICAgICAgICAgICAgPC9nPgogICAgICAgIDwvZz4KICAgIDwvZz4KPC9zdmc+' > </img>\nCreated in <span style='font-weight:600;margin-left:4px;'>Deepnote</span></a>",
      "metadata": {
        "tags": [],
        "created_in_deepnote_cell": true,
        "deepnote_cell_type": "markdown"
      }
    }
  ],
  "nbformat": 4,
  "nbformat_minor": 4,
  "metadata": {
    "kernelspec": {
      "display_name": "Python 3",
      "language": "python",
      "name": "python3"
    },
    "language_info": {
      "codemirror_mode": {
        "name": "ipython",
        "version": 3
      },
      "file_extension": ".py",
      "mimetype": "text/x-python",
      "name": "python",
      "nbconvert_exporter": "python",
      "pygments_lexer": "ipython3",
      "version": "3.6.13"
    },
    "deepnote_notebook_id": "06ff0709-3f5a-49ea-8170-c9b43d88ba5b",
    "deepnote": {},
    "deepnote_execution_queue": []
  }
}