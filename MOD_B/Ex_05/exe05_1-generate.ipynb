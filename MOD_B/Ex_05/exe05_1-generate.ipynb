{
  "cells": [
    {
      "cell_type": "markdown",
      "source": "***Direttamente da lezione***",
      "metadata": {
        "tags": [],
        "cell_id": "00000-70467952-c60e-44fc-ba59-0ed2ca4c9137",
        "deepnote_cell_type": "markdown"
      }
    },
    {
      "cell_type": "code",
      "metadata": {
        "cell_id": "00000-9f8d03a5-2faf-4e94-9797-878ae3f2c8d0",
        "deepnote_to_be_reexecuted": false,
        "source_hash": "e83f1cc",
        "execution_millis": 6,
        "execution_start": 1618429495746,
        "deepnote_cell_type": "code"
      },
      "source": "import csv\n# random seed for reproducibility\nimport random\nimport numpy as np\nrandom.seed(123)",
      "execution_count": null,
      "outputs": []
    },
    {
      "cell_type": "code",
      "metadata": {
        "cell_id": "00001-d9e88501-972e-4eb7-92e2-c15ea3a1db44",
        "deepnote_to_be_reexecuted": false,
        "source_hash": "933613f0",
        "execution_millis": 18,
        "execution_start": 1618388854984,
        "deepnote_cell_type": "code"
      },
      "source": "# number of data\nN=10000\n# size of each data point\nL=8\n# 4 intervals of length Z=L/4, each containing a set of 1's or 0's\nZ=int(L/4)\n# choose among states (1,0,1,0), (0,1,1,0), (1,0,0,1), (0,1,0,1) from a 2x2 product of (1,0)x(1,0)\n# with prob=1/4\n# corruption of bits: switch each of the L variables with probability q\nq=0\n\ny = [0] * N\nx = [[0] * L for j in range(N)]\nvec1 = [1] * Z     \n\ndef ones(n,i,j):\n    x[n][Z*i:Z*(i+1)] = vec1\n    x[n][Z*(j+2):Z*(j+3)] = vec1\n    \n\nrandom.seed(123)\nfor n in range(N):\n    a = random.randint(0,1)\n    b = random.randint(0,1)\n    y[n] = a + b*2 \n    ones(n,a,b)\n    \n    for j in range(L):\n        if random.random()<q:\n             x[n][j] = 1-x[n][j]\n                \n                \nfor n in range(min(20,N)):\n    print(x[n],y[n])",
      "execution_count": null,
      "outputs": [
        {
          "name": "stdout",
          "text": "[0, 1, 1, 0, 1, 0, 1, 1] 2\n[1, 1, 0, 1, 1, 0, 0, 1] 0\n[1, 1, 1, 0, 0, 0, 1, 1] 3\n[0, 0, 1, 1, 1, 1, 0, 0] 1\n[0, 0, 1, 1, 0, 0, 1, 0] 3\n[1, 1, 1, 0, 1, 0, 0, 0] 0\n[1, 1, 1, 0, 1, 1, 0, 0] 1\n[1, 1, 0, 0, 0, 1, 1, 1] 2\n[1, 0, 0, 1, 1, 1, 0, 1] 1\n[1, 0, 0, 0, 0, 0, 1, 0] 2\n[0, 1, 1, 1, 1, 0, 0, 1] 3\n[1, 1, 1, 0, 0, 1, 0, 1] 0\n[0, 0, 1, 0, 1, 0, 1, 1] 3\n[0, 0, 1, 1, 1, 1, 0, 1] 1\n[0, 1, 1, 1, 1, 0, 0, 0] 1\n[0, 0, 0, 0, 1, 0, 1, 0] 3\n[1, 0, 0, 1, 1, 1, 1, 0] 0\n[0, 0, 1, 1, 0, 0, 1, 1] 3\n[1, 1, 0, 0, 1, 0, 1, 0] 0\n[0, 0, 1, 1, 1, 0, 1, 1] 3\n",
          "output_type": "stream"
        }
      ]
    },
    {
      "cell_type": "code",
      "metadata": {
        "cell_id": "00002-9b57df64-34f5-4c27-97ea-ba7c512d296a",
        "deepnote_to_be_reexecuted": false,
        "source_hash": "380a6ddc",
        "execution_millis": 25,
        "execution_start": 1618388858437,
        "deepnote_cell_type": "code"
      },
      "source": "# !mkdir DATA\n\nfname = 'DATA/dataRBM_q'+str(q)+'.csv'\nprint(fname)\n# any way to do it in one line?\nwith open(fname, mode='w') as myfile:\n    writer = csv.writer(myfile, delimiter=',')\n    for i in range(N):\n        writer.writerow(x[i])",
      "execution_count": null,
      "outputs": [
        {
          "name": "stdout",
          "text": "DATA/dataRBM_q0.2.csv\n",
          "output_type": "stream"
        }
      ]
    },
    {
      "cell_type": "markdown",
      "source": "***Prova punto 3***",
      "metadata": {
        "tags": [],
        "cell_id": "00003-5c640774-dbd1-42d9-97cf-9a8310bbe077",
        "deepnote_cell_type": "markdown"
      }
    },
    {
      "cell_type": "code",
      "metadata": {
        "tags": [],
        "cell_id": "00003-f5bfb660-4413-42f5-8156-dd3c8b6b58ca",
        "deepnote_to_be_reexecuted": false,
        "source_hash": "4321e5d8",
        "execution_millis": 110,
        "execution_start": 1618429575136,
        "deepnote_cell_type": "code"
      },
      "source": "# number of data\nN=10000\n# size of each data point\nL=8\nq=0.2\n\ny = [0] * N\nx = [[0] * L for j in range(N)]\n\nrandom.seed(123)\nfor n in range(N):\n    patt_0 = [1, 1, 0, 0, 1, 1, 0, 0]\n    patt_1 = [0, 0, 1, 1, 1, 1, 0, 0]\n    patt_2 = [1, 1, 0, 0, 0, 0, 1, 1]\n    patt_3 = [0, 0, 1, 1, 0, 0, 1, 1]\n    patt_4 = [1, 1, 1, 1, 1, 1, 1, 1]\n    patt_5 = [1, 0, 1, 0, 1, 0, 0, 0]\n    k=random.randint(0,5)#SE CAMBI IL NUMERO DI PATTER cambia anche questo valore\n\n    if (k == 0):\n        x[n] = patt_0\n        y[n] = 0\n    elif (k == 1):\n        x[n] = patt_1\n        y[n] = 1\n    elif (k == 2):\n        x[n] = patt_2\n        y[n] = 2\n    elif (k == 3):\n        x[n] = patt_3\n        y[n] = 3\n    elif (k == 4):\n        x[n] = patt_4\n        y[n] = 4\n    elif (k == 5):\n        x[n] = patt_5\n        y[n] = 5\n\n    for j in range(L):\n        if random.random() < q:\n             x[n][j] = 1 - x[n][j]\n                \n                \nfor n in range(min(10,N)):\n    print(x[n],y[n])",
      "execution_count": null,
      "outputs": [
        {
          "name": "stdout",
          "text": "[1, 1, 0, 0, 1, 1, 0, 0] 0\n[0, 1, 0, 0, 0, 1, 1, 0] 0\n[0, 1, 1, 1, 1, 0, 0, 0] 0\n[0, 0, 1, 1, 0, 0, 1, 1] 3\n[1, 1, 0, 1, 1, 1, 1, 1] 4\n[1, 1, 1, 1, 0, 1, 0, 1] 4\n[0, 1, 1, 1, 1, 0, 1, 1] 3\n[0, 0, 1, 1, 1, 1, 0, 0] 1\n[1, 1, 0, 0, 1, 1, 1, 0] 0\n[0, 0, 0, 1, 1, 0, 1, 1] 3\n",
          "output_type": "stream"
        }
      ]
    },
    {
      "cell_type": "code",
      "metadata": {
        "tags": [],
        "cell_id": "00005-824d73f2-b464-48e3-b286-509377a57f00",
        "deepnote_to_be_reexecuted": false,
        "source_hash": "b4265d75",
        "execution_millis": 46,
        "execution_start": 1618429579067,
        "deepnote_cell_type": "code"
      },
      "source": "# !mkdir DATA\n\nfname = 'DATA/dataRBM_q'+str(q)+'_5state.csv'\nprint(fname)\n# any way to do it in one line?\nwith open(fname, mode='w') as myfile:\n    writer = csv.writer(myfile, delimiter=',')\n    for i in range(N):\n        writer.writerow(x[i])\n",
      "execution_count": null,
      "outputs": [
        {
          "name": "stdout",
          "text": "DATA/dataRBM_q0.2_5state.csv\n",
          "output_type": "stream"
        }
      ]
    },
    {
      "cell_type": "markdown",
      "source": "<a style='text-decoration:none;line-height:16px;display:flex;color:#5B5B62;padding:10px;justify-content:end;' href='https://deepnote.com?utm_source=created-in-deepnote-cell&projectId=dc341315-a668-4e89-92e9-cab634ea884a' target=\"_blank\">\n<img alt='Created in deepnote.com' style='display:inline;max-height:16px;margin:0px;margin-right:7.5px;' src='data:image/svg+xml;base64,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' > </img>\nCreated in <span style='font-weight:600;margin-left:4px;'>Deepnote</span></a>",
      "metadata": {
        "tags": [],
        "created_in_deepnote_cell": true,
        "deepnote_cell_type": "markdown"
      }
    }
  ],
  "nbformat": 4,
  "nbformat_minor": 2,
  "metadata": {
    "kernelspec": {
      "display_name": "Python 3",
      "language": "python",
      "name": "python3"
    },
    "language_info": {
      "codemirror_mode": {
        "name": "ipython",
        "version": 3
      },
      "file_extension": ".py",
      "mimetype": "text/x-python",
      "name": "python",
      "nbconvert_exporter": "python",
      "pygments_lexer": "ipython3",
      "version": "3.8.5"
    },
    "deepnote_notebook_id": "1cbc5ccf-9adb-4c00-822b-95b22d8146d9",
    "deepnote": {},
    "deepnote_execution_queue": []
  }
}