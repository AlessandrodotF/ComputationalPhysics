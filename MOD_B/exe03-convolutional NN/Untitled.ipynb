{
 "cells": [
  {
   "cell_type": "code",
   "execution_count": 2,
   "id": "allied-operation",
   "metadata": {},
   "outputs": [],
   "source": [
    "import random\n",
    "from math import log, sin, pi\n",
    "import matplotlib.pyplot as plt"
   ]
  },
  {
   "cell_type": "code",
   "execution_count": 3,
   "id": "light-circular",
   "metadata": {},
   "outputs": [
    {
     "name": "stdout",
     "output_type": "stream",
     "text": [
      "49\n",
      "-5\n",
      "13\n",
      "-60\n",
      "96\n",
      "-2\n",
      "34\n",
      "30\n",
      "57\n",
      "-27\n"
     ]
    }
   ],
   "source": [
    "random.seed(12345)\n",
    "#need for markov-chain:\n",
    "step=lambda DX, bias: round(((log(random.random()))*DX)*2*(random.randint(0,1)-0.5) + bias)\n",
    "#the step is from a double exp (for pos and neg numbers) centred in the bias. Typical scale=DX\n",
    "#the coice of exp is arbitrary!\n",
    "\n",
    "for i in range(10):\n",
    "    print(step(50,5))\n",
    "    \n",
    "#y=label-> we want a positive number if y=1, a negative one if y=2\n",
    "#amplitude of aour time siries =a\n",
    "#z=#of bits on wich we want to add this sine pattern (z=0 at the biginig)\n",
    "def pattern(y,z,a,i):\n",
    "\n",
    "    return round((3-2*y)*a*sin((pi*i)/z))"
   ]
  },
  {
   "cell_type": "code",
   "execution_count": 4,
   "id": "vocational-nothing",
   "metadata": {},
   "outputs": [
    {
     "name": "stdout",
     "output_type": "stream",
     "text": [
      "[0, 49, 44, 57, -3, 93, 91, 125, 155, 212, 185, 217, 317, 239, 187, 138, 426, 444, 387, 504, 524, 527, 543, 442, 524, 461, 499, 663, 728, 828, 780, 692, 915, 937, 989, 982, 1064, 1106, 897, 846, 855, 910, 944, 914, 992, 1088, 1124, 1033, 1044, 982, 851, 900, 909, 734, 826, 917, 920, 981, 1008, 1036] 0\n",
      "[1036, 1055, 1005, 1114, 1052, 1213, 1241, 1339, 1279, 1265, 1211, 1158, 1255, 1421, 1583, 1687, 1916, 1931, 1834, 1711, 1621, 1393, 1327, 1246, 1126, 1058, 1143, 1257, 1250, 1302, 1236, 1336, 1273, 1186, 1354, 1477, 1452, 1458, 1476, 1454, 1486, 1452, 1642, 1640, 1665, 1613, 1464, 1422, 1531, 1508, 1515, 1544, 1546, 1560, 1526, 1673, 1673, 1693, 1746, 1751] 1\n",
      "[1751, 1761, 1674, 1687, 1713, 1730, 1764, 1887, 1815, 1745, 1735, 1761, 1787, 1759, 1692, 1678, 1645, 1581, 1629, 1546, 1618, 1600, 1418, 1428, 1421, 1247, 1202, 1280, 1354, 1564, 1625, 1621, 1531, 1337, 1234, 1148, 1075, 1097, 1098, 1157, 1246, 1373, 1433, 1561, 1529, 1553, 1573, 1578, 1597, 1579, 1492, 1492, 1405, 1387, 1350, 1285, 1109, 1079, 1077, 1093] 2\n"
     ]
    }
   ],
   "source": [
    "random.seed(12345)\n",
    "#pattern feature\n",
    "Z=12 #number of bits involved in the pattern\n",
    "A=500 #amplitude taken\n",
    "#data\n",
    "N=10000\n",
    "L=60 #size of each samples\n",
    "\n",
    "DX=50 #for every step we have this typical scale\n",
    "bias=5\n",
    "\n",
    "y=[0]*N #we generate enpty vector\n",
    "x=[[0]*L for i in range (N)]\n",
    "\n",
    "for n in range (N):\n",
    "    if n>0: #we want to continue our serie from the last point\n",
    "        x[n][0]=x[n-1][-1] \n",
    "    for j in range(1,L):\n",
    "        x[n][j]= x[n][j-1] +step(DX, bias)\n",
    "        \n",
    "    y[n]=n%3 #to generate a balance time series\n",
    "    if y[n]>0:\n",
    "        j0=random.randint(0,L-1-Z)\n",
    "        for j in range (Z):\n",
    "            x[n][j0+j] += pattern(y[n],Z,A,j)\n",
    "for n in range (3):\n",
    "    print(x[n], y[n])"
   ]
  },
  {
   "cell_type": "code",
   "execution_count": 5,
   "id": "equivalent-democrat",
   "metadata": {},
   "outputs": [
    {
     "data": {
      "image/png": "[encoded data removed]",
      "text/plain": [
       "<Figure size 432x288 with 1 Axes>"
      ]
     },
     "metadata": {
      "needs_background": "light"
     },
     "output_type": "display_data"
    }
   ],
   "source": [
    "plt.plot(x[0])\n",
    "plt.plot(x[1])\n",
    "plt.plot(x[2])\n",
    "plt.show()"
   ]
  },
  {
   "cell_type": "code",
   "execution_count": 8,
   "id": "effective-artist",
   "metadata": {},
   "outputs": [
    {
     "name": "stderr",
     "output_type": "stream",
     "text": [
      "Sottodirectory o file DATA già esistente.\n"
     ]
    },
    {
     "name": "stdout",
     "output_type": "stream",
     "text": [
      "ts_L60_Z12_A500_DX50_bias5_N10000\n"
     ]
    }
   ],
   "source": [
    "!mkdir DATA\n",
    "import csv\n",
    "str0=f\"ts_L{L}_Z{Z}_A{A}_DX{DX}_bias{bias}_N{N}\"\n",
    "print(str0)\n",
    "fname=\"DATA/x_\"+str0+\".csv\"\n",
    "with open(fname, mode=\"w\",newline='') as myfile:\n",
    "    writer=csv.writer(myfile)\n",
    "    for i in range (N):\n",
    "        writer.writerow(x[i])\n",
    "        \n",
    "fname=\"DATA/y_\"+str0+\".csv\"\n",
    "with open(fname, mode=\"w\") as myfile:\n",
    "    writer=csv.writer(myfile)\n",
    "    writer.writerows(map( lambda yy:[yy],y))"
   ]
  },
  {
   "cell_type": "code",
   "execution_count": null,
   "id": "moral-hunter",
   "metadata": {},
   "outputs": [],
   "source": []
  },
  {
   "cell_type": "code",
   "execution_count": null,
   "id": "changed-academy",
   "metadata": {},
   "outputs": [],
   "source": []
  }
 ],
 "metadata": {
  "kernelspec": {
   "display_name": "Python 3",
   "language": "python",
   "name": "python3"
  },
  "language_info": {
   "codemirror_mode": {
    "name": "ipython",
    "version": 3
   },
   "file_extension": ".py",
   "mimetype": "text/x-python",
   "name": "python",
   "nbconvert_exporter": "python",
   "pygments_lexer": "ipython3",
   "version": "3.6.12"
  }
 },
 "nbformat": 4,
 "nbformat_minor": 5
}
